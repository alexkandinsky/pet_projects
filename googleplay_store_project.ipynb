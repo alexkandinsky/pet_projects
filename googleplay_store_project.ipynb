{
  "nbformat": 4,
  "nbformat_minor": 0,
  "metadata": {
    "colab": {
      "provenance": [],
      "toc_visible": true,
      "authorship_tag": "ABX9TyP3Wy8Fdd7n2J3yTZ/cg3/C"
    },
    "kernelspec": {
      "name": "python3",
      "display_name": "Python 3"
    },
    "language_info": {
      "name": "python"
    }
  },
  "cells": [
    {
      "cell_type": "markdown",
      "source": [
        "# <b> ПРОЕКТ В ПРОЦЕССЕ ВЫПОЛНЕНИЯ ⚠️ </b>"
      ],
      "metadata": {
        "id": "yS_kOm5wrAwn"
      }
    },
    {
      "cell_type": "markdown",
      "source": [
        "#<b>Проект: Исследование приложений Google Play Market</b>\n"
      ],
      "metadata": {
        "id": "_ulDDrTAGy7x"
      }
    },
    {
      "cell_type": "markdown",
      "source": [
        "##<b>Описание проекта</b>\n",
        "\n",
        "Цель проекта заключается в исследовании популярности приложений на платформе Google Play Market. <br>Для достижения этой цели мы анализируем различные аспекты приложений, включая их название, категорию, рейтинг, количество отзывов, размер, количество установок, тип (платное/бесплатное), цену, возрастную группу, жанр, дату последнего обновления и минимально требуемую версию Android.<br> Эти данные позволят нам понять, какие приложения наиболее популярны среди пользователей Google Play, и выявить факторы, влияющие на их популярность."
      ],
      "metadata": {
        "id": "eGo5xnBWG0gP"
      }
    },
    {
      "cell_type": "markdown",
      "source": [
        "##<b>Описание данных</b>\n",
        "- <b>App</b> - название приложения;\n",
        "- <b>Category</b> - категория приложения;\n",
        "- <b>Rating</b> - общий пользовательский рейтинг;\n",
        "- <b>Reviews</b> - количество отзывов;\n",
        "- <b>Size</b> - размер приложения;\n",
        "- <b>Installs</b> - количество загрузок/установок;\n",
        "- <b>Type</b> - платное/бесплатное;\n",
        "- <b>Price</b> - цена приложения;\n",
        "- <b>Content Rating</b> - возрастная группа;\n",
        "- <b>Genres</b> - жанр приложения;\n",
        "- <b>Last Updated</b> - последнее обновление;\n",
        "- <b>Current Ver</b> - текущая доступная версия;\n",
        "- <b>Android Ver</b> - минимально требуемая версия Android."
      ],
      "metadata": {
        "id": "skGchw0_G0iu"
      }
    },
    {
      "cell_type": "markdown",
      "source": [
        "##<b>Задачи исследования</b>\n",
        "\n",
        "<b>Предобработка данных</b>\n",
        "- Приведем наименовая столбцов в корректному виду.\n",
        "- Проверим пропуски и типы данных. Откорректируем, если это потребуется.\n",
        "- Проверим данные на дубликаты.\n",
        "\n",
        "<b>Исследовательский анализ данных</b>\n",
        "\n",
        "<b>Общий вывод</b>"
      ],
      "metadata": {
        "id": "1UXsZw3IHBeJ"
      }
    },
    {
      "cell_type": "code",
      "execution_count": 1,
      "metadata": {
        "colab": {
          "base_uri": "https://localhost:8080/"
        },
        "id": "WuPeMCWBE0TX",
        "outputId": "eea529fc-314e-4535-906b-d9cb8f2e1969"
      },
      "outputs": [
        {
          "output_type": "stream",
          "name": "stdout",
          "text": [
            "/usr/local/lib/python3.10/dist-packages/gdown/cli.py:121: FutureWarning: Option `--id` was deprecated in version 4.3.1 and will be removed in 5.0. You don't need to pass it anymore to use a file ID.\n",
            "  warnings.warn(\n",
            "Downloading...\n",
            "From: https://drive.google.com/uc?id=13YMcVmYMpoNnmMPXizpkj4yt9p_1J_5g\n",
            "To: /content/googleplaystore.csv\n",
            "100% 1.36M/1.36M [00:00<00:00, 154MB/s]\n"
          ]
        }
      ],
      "source": [
        "!gdown --id 13YMcVmYMpoNnmMPXizpkj4yt9p_1J_5g"
      ]
    },
    {
      "cell_type": "code",
      "source": [
        "import pandas as pd\n",
        "import numpy as mp\n",
        "import matplotlib.pyplot as plt\n",
        "import seaborn as sns"
      ],
      "metadata": {
        "id": "5Qj-a4SqE5bH"
      },
      "execution_count": 2,
      "outputs": []
    },
    {
      "cell_type": "code",
      "source": [
        "df = pd.read_csv('googleplaystore.csv')"
      ],
      "metadata": {
        "id": "NSlCFVICE-rA"
      },
      "execution_count": 3,
      "outputs": []
    },
    {
      "cell_type": "code",
      "source": [
        "df.head()"
      ],
      "metadata": {
        "colab": {
          "base_uri": "https://localhost:8080/",
          "height": 293
        },
        "id": "fYQTr7qSFSmM",
        "outputId": "494964c3-740c-4c61-853e-24426a2d364f"
      },
      "execution_count": 4,
      "outputs": [
        {
          "output_type": "execute_result",
          "data": {
            "text/plain": [
              "                                                 App        Category  Rating  \\\n",
              "0     Photo Editor & Candy Camera & Grid & ScrapBook  ART_AND_DESIGN     4.1   \n",
              "1                                Coloring book moana  ART_AND_DESIGN     3.9   \n",
              "2  U Launcher Lite – FREE Live Cool Themes, Hide ...  ART_AND_DESIGN     4.7   \n",
              "3                              Sketch - Draw & Paint  ART_AND_DESIGN     4.5   \n",
              "4              Pixel Draw - Number Art Coloring Book  ART_AND_DESIGN     4.3   \n",
              "\n",
              "  Reviews  Size     Installs  Type Price Content Rating  \\\n",
              "0     159   19M      10,000+  Free     0       Everyone   \n",
              "1     967   14M     500,000+  Free     0       Everyone   \n",
              "2   87510  8.7M   5,000,000+  Free     0       Everyone   \n",
              "3  215644   25M  50,000,000+  Free     0           Teen   \n",
              "4     967  2.8M     100,000+  Free     0       Everyone   \n",
              "\n",
              "                      Genres      Last Updated         Current Ver  \\\n",
              "0               Art & Design   January 7, 2018               1.0.0   \n",
              "1  Art & Design;Pretend Play  January 15, 2018               2.0.0   \n",
              "2               Art & Design    August 1, 2018               1.2.4   \n",
              "3               Art & Design      June 8, 2018  Varies with device   \n",
              "4    Art & Design;Creativity     June 20, 2018                 1.1   \n",
              "\n",
              "    Android Ver  \n",
              "0  4.0.3 and up  \n",
              "1  4.0.3 and up  \n",
              "2  4.0.3 and up  \n",
              "3    4.2 and up  \n",
              "4    4.4 and up  "
            ],
            "text/html": [
              "\n",
              "  <div id=\"df-8ad4da59-2dad-4d34-8278-c8724f54b603\" class=\"colab-df-container\">\n",
              "    <div>\n",
              "<style scoped>\n",
              "    .dataframe tbody tr th:only-of-type {\n",
              "        vertical-align: middle;\n",
              "    }\n",
              "\n",
              "    .dataframe tbody tr th {\n",
              "        vertical-align: top;\n",
              "    }\n",
              "\n",
              "    .dataframe thead th {\n",
              "        text-align: right;\n",
              "    }\n",
              "</style>\n",
              "<table border=\"1\" class=\"dataframe\">\n",
              "  <thead>\n",
              "    <tr style=\"text-align: right;\">\n",
              "      <th></th>\n",
              "      <th>App</th>\n",
              "      <th>Category</th>\n",
              "      <th>Rating</th>\n",
              "      <th>Reviews</th>\n",
              "      <th>Size</th>\n",
              "      <th>Installs</th>\n",
              "      <th>Type</th>\n",
              "      <th>Price</th>\n",
              "      <th>Content Rating</th>\n",
              "      <th>Genres</th>\n",
              "      <th>Last Updated</th>\n",
              "      <th>Current Ver</th>\n",
              "      <th>Android Ver</th>\n",
              "    </tr>\n",
              "  </thead>\n",
              "  <tbody>\n",
              "    <tr>\n",
              "      <th>0</th>\n",
              "      <td>Photo Editor &amp; Candy Camera &amp; Grid &amp; ScrapBook</td>\n",
              "      <td>ART_AND_DESIGN</td>\n",
              "      <td>4.1</td>\n",
              "      <td>159</td>\n",
              "      <td>19M</td>\n",
              "      <td>10,000+</td>\n",
              "      <td>Free</td>\n",
              "      <td>0</td>\n",
              "      <td>Everyone</td>\n",
              "      <td>Art &amp; Design</td>\n",
              "      <td>January 7, 2018</td>\n",
              "      <td>1.0.0</td>\n",
              "      <td>4.0.3 and up</td>\n",
              "    </tr>\n",
              "    <tr>\n",
              "      <th>1</th>\n",
              "      <td>Coloring book moana</td>\n",
              "      <td>ART_AND_DESIGN</td>\n",
              "      <td>3.9</td>\n",
              "      <td>967</td>\n",
              "      <td>14M</td>\n",
              "      <td>500,000+</td>\n",
              "      <td>Free</td>\n",
              "      <td>0</td>\n",
              "      <td>Everyone</td>\n",
              "      <td>Art &amp; Design;Pretend Play</td>\n",
              "      <td>January 15, 2018</td>\n",
              "      <td>2.0.0</td>\n",
              "      <td>4.0.3 and up</td>\n",
              "    </tr>\n",
              "    <tr>\n",
              "      <th>2</th>\n",
              "      <td>U Launcher Lite – FREE Live Cool Themes, Hide ...</td>\n",
              "      <td>ART_AND_DESIGN</td>\n",
              "      <td>4.7</td>\n",
              "      <td>87510</td>\n",
              "      <td>8.7M</td>\n",
              "      <td>5,000,000+</td>\n",
              "      <td>Free</td>\n",
              "      <td>0</td>\n",
              "      <td>Everyone</td>\n",
              "      <td>Art &amp; Design</td>\n",
              "      <td>August 1, 2018</td>\n",
              "      <td>1.2.4</td>\n",
              "      <td>4.0.3 and up</td>\n",
              "    </tr>\n",
              "    <tr>\n",
              "      <th>3</th>\n",
              "      <td>Sketch - Draw &amp; Paint</td>\n",
              "      <td>ART_AND_DESIGN</td>\n",
              "      <td>4.5</td>\n",
              "      <td>215644</td>\n",
              "      <td>25M</td>\n",
              "      <td>50,000,000+</td>\n",
              "      <td>Free</td>\n",
              "      <td>0</td>\n",
              "      <td>Teen</td>\n",
              "      <td>Art &amp; Design</td>\n",
              "      <td>June 8, 2018</td>\n",
              "      <td>Varies with device</td>\n",
              "      <td>4.2 and up</td>\n",
              "    </tr>\n",
              "    <tr>\n",
              "      <th>4</th>\n",
              "      <td>Pixel Draw - Number Art Coloring Book</td>\n",
              "      <td>ART_AND_DESIGN</td>\n",
              "      <td>4.3</td>\n",
              "      <td>967</td>\n",
              "      <td>2.8M</td>\n",
              "      <td>100,000+</td>\n",
              "      <td>Free</td>\n",
              "      <td>0</td>\n",
              "      <td>Everyone</td>\n",
              "      <td>Art &amp; Design;Creativity</td>\n",
              "      <td>June 20, 2018</td>\n",
              "      <td>1.1</td>\n",
              "      <td>4.4 and up</td>\n",
              "    </tr>\n",
              "  </tbody>\n",
              "</table>\n",
              "</div>\n",
              "    <div class=\"colab-df-buttons\">\n",
              "\n",
              "  <div class=\"colab-df-container\">\n",
              "    <button class=\"colab-df-convert\" onclick=\"convertToInteractive('df-8ad4da59-2dad-4d34-8278-c8724f54b603')\"\n",
              "            title=\"Convert this dataframe to an interactive table.\"\n",
              "            style=\"display:none;\">\n",
              "\n",
              "  <svg xmlns=\"http://www.w3.org/2000/svg\" height=\"24px\" viewBox=\"0 -960 960 960\">\n",
              "    <path d=\"M120-120v-720h720v720H120Zm60-500h600v-160H180v160Zm220 220h160v-160H400v160Zm0 220h160v-160H400v160ZM180-400h160v-160H180v160Zm440 0h160v-160H620v160ZM180-180h160v-160H180v160Zm440 0h160v-160H620v160Z\"/>\n",
              "  </svg>\n",
              "    </button>\n",
              "\n",
              "  <style>\n",
              "    .colab-df-container {\n",
              "      display:flex;\n",
              "      gap: 12px;\n",
              "    }\n",
              "\n",
              "    .colab-df-convert {\n",
              "      background-color: #E8F0FE;\n",
              "      border: none;\n",
              "      border-radius: 50%;\n",
              "      cursor: pointer;\n",
              "      display: none;\n",
              "      fill: #1967D2;\n",
              "      height: 32px;\n",
              "      padding: 0 0 0 0;\n",
              "      width: 32px;\n",
              "    }\n",
              "\n",
              "    .colab-df-convert:hover {\n",
              "      background-color: #E2EBFA;\n",
              "      box-shadow: 0px 1px 2px rgba(60, 64, 67, 0.3), 0px 1px 3px 1px rgba(60, 64, 67, 0.15);\n",
              "      fill: #174EA6;\n",
              "    }\n",
              "\n",
              "    .colab-df-buttons div {\n",
              "      margin-bottom: 4px;\n",
              "    }\n",
              "\n",
              "    [theme=dark] .colab-df-convert {\n",
              "      background-color: #3B4455;\n",
              "      fill: #D2E3FC;\n",
              "    }\n",
              "\n",
              "    [theme=dark] .colab-df-convert:hover {\n",
              "      background-color: #434B5C;\n",
              "      box-shadow: 0px 1px 3px 1px rgba(0, 0, 0, 0.15);\n",
              "      filter: drop-shadow(0px 1px 2px rgba(0, 0, 0, 0.3));\n",
              "      fill: #FFFFFF;\n",
              "    }\n",
              "  </style>\n",
              "\n",
              "    <script>\n",
              "      const buttonEl =\n",
              "        document.querySelector('#df-8ad4da59-2dad-4d34-8278-c8724f54b603 button.colab-df-convert');\n",
              "      buttonEl.style.display =\n",
              "        google.colab.kernel.accessAllowed ? 'block' : 'none';\n",
              "\n",
              "      async function convertToInteractive(key) {\n",
              "        const element = document.querySelector('#df-8ad4da59-2dad-4d34-8278-c8724f54b603');\n",
              "        const dataTable =\n",
              "          await google.colab.kernel.invokeFunction('convertToInteractive',\n",
              "                                                    [key], {});\n",
              "        if (!dataTable) return;\n",
              "\n",
              "        const docLinkHtml = 'Like what you see? Visit the ' +\n",
              "          '<a target=\"_blank\" href=https://colab.research.google.com/notebooks/data_table.ipynb>data table notebook</a>'\n",
              "          + ' to learn more about interactive tables.';\n",
              "        element.innerHTML = '';\n",
              "        dataTable['output_type'] = 'display_data';\n",
              "        await google.colab.output.renderOutput(dataTable, element);\n",
              "        const docLink = document.createElement('div');\n",
              "        docLink.innerHTML = docLinkHtml;\n",
              "        element.appendChild(docLink);\n",
              "      }\n",
              "    </script>\n",
              "  </div>\n",
              "\n",
              "\n",
              "<div id=\"df-16bb6203-1be7-4dcf-9fe1-b7483c959b84\">\n",
              "  <button class=\"colab-df-quickchart\" onclick=\"quickchart('df-16bb6203-1be7-4dcf-9fe1-b7483c959b84')\"\n",
              "            title=\"Suggest charts.\"\n",
              "            style=\"display:none;\">\n",
              "\n",
              "<svg xmlns=\"http://www.w3.org/2000/svg\" height=\"24px\"viewBox=\"0 0 24 24\"\n",
              "     width=\"24px\">\n",
              "    <g>\n",
              "        <path d=\"M19 3H5c-1.1 0-2 .9-2 2v14c0 1.1.9 2 2 2h14c1.1 0 2-.9 2-2V5c0-1.1-.9-2-2-2zM9 17H7v-7h2v7zm4 0h-2V7h2v10zm4 0h-2v-4h2v4z\"/>\n",
              "    </g>\n",
              "</svg>\n",
              "  </button>\n",
              "\n",
              "<style>\n",
              "  .colab-df-quickchart {\n",
              "      --bg-color: #E8F0FE;\n",
              "      --fill-color: #1967D2;\n",
              "      --hover-bg-color: #E2EBFA;\n",
              "      --hover-fill-color: #174EA6;\n",
              "      --disabled-fill-color: #AAA;\n",
              "      --disabled-bg-color: #DDD;\n",
              "  }\n",
              "\n",
              "  [theme=dark] .colab-df-quickchart {\n",
              "      --bg-color: #3B4455;\n",
              "      --fill-color: #D2E3FC;\n",
              "      --hover-bg-color: #434B5C;\n",
              "      --hover-fill-color: #FFFFFF;\n",
              "      --disabled-bg-color: #3B4455;\n",
              "      --disabled-fill-color: #666;\n",
              "  }\n",
              "\n",
              "  .colab-df-quickchart {\n",
              "    background-color: var(--bg-color);\n",
              "    border: none;\n",
              "    border-radius: 50%;\n",
              "    cursor: pointer;\n",
              "    display: none;\n",
              "    fill: var(--fill-color);\n",
              "    height: 32px;\n",
              "    padding: 0;\n",
              "    width: 32px;\n",
              "  }\n",
              "\n",
              "  .colab-df-quickchart:hover {\n",
              "    background-color: var(--hover-bg-color);\n",
              "    box-shadow: 0 1px 2px rgba(60, 64, 67, 0.3), 0 1px 3px 1px rgba(60, 64, 67, 0.15);\n",
              "    fill: var(--button-hover-fill-color);\n",
              "  }\n",
              "\n",
              "  .colab-df-quickchart-complete:disabled,\n",
              "  .colab-df-quickchart-complete:disabled:hover {\n",
              "    background-color: var(--disabled-bg-color);\n",
              "    fill: var(--disabled-fill-color);\n",
              "    box-shadow: none;\n",
              "  }\n",
              "\n",
              "  .colab-df-spinner {\n",
              "    border: 2px solid var(--fill-color);\n",
              "    border-color: transparent;\n",
              "    border-bottom-color: var(--fill-color);\n",
              "    animation:\n",
              "      spin 1s steps(1) infinite;\n",
              "  }\n",
              "\n",
              "  @keyframes spin {\n",
              "    0% {\n",
              "      border-color: transparent;\n",
              "      border-bottom-color: var(--fill-color);\n",
              "      border-left-color: var(--fill-color);\n",
              "    }\n",
              "    20% {\n",
              "      border-color: transparent;\n",
              "      border-left-color: var(--fill-color);\n",
              "      border-top-color: var(--fill-color);\n",
              "    }\n",
              "    30% {\n",
              "      border-color: transparent;\n",
              "      border-left-color: var(--fill-color);\n",
              "      border-top-color: var(--fill-color);\n",
              "      border-right-color: var(--fill-color);\n",
              "    }\n",
              "    40% {\n",
              "      border-color: transparent;\n",
              "      border-right-color: var(--fill-color);\n",
              "      border-top-color: var(--fill-color);\n",
              "    }\n",
              "    60% {\n",
              "      border-color: transparent;\n",
              "      border-right-color: var(--fill-color);\n",
              "    }\n",
              "    80% {\n",
              "      border-color: transparent;\n",
              "      border-right-color: var(--fill-color);\n",
              "      border-bottom-color: var(--fill-color);\n",
              "    }\n",
              "    90% {\n",
              "      border-color: transparent;\n",
              "      border-bottom-color: var(--fill-color);\n",
              "    }\n",
              "  }\n",
              "</style>\n",
              "\n",
              "  <script>\n",
              "    async function quickchart(key) {\n",
              "      const quickchartButtonEl =\n",
              "        document.querySelector('#' + key + ' button');\n",
              "      quickchartButtonEl.disabled = true;  // To prevent multiple clicks.\n",
              "      quickchartButtonEl.classList.add('colab-df-spinner');\n",
              "      try {\n",
              "        const charts = await google.colab.kernel.invokeFunction(\n",
              "            'suggestCharts', [key], {});\n",
              "      } catch (error) {\n",
              "        console.error('Error during call to suggestCharts:', error);\n",
              "      }\n",
              "      quickchartButtonEl.classList.remove('colab-df-spinner');\n",
              "      quickchartButtonEl.classList.add('colab-df-quickchart-complete');\n",
              "    }\n",
              "    (() => {\n",
              "      let quickchartButtonEl =\n",
              "        document.querySelector('#df-16bb6203-1be7-4dcf-9fe1-b7483c959b84 button');\n",
              "      quickchartButtonEl.style.display =\n",
              "        google.colab.kernel.accessAllowed ? 'block' : 'none';\n",
              "    })();\n",
              "  </script>\n",
              "</div>\n",
              "    </div>\n",
              "  </div>\n"
            ]
          },
          "metadata": {},
          "execution_count": 4
        }
      ]
    },
    {
      "cell_type": "markdown",
      "source": [
        "## <b>Предобработка данных</b>"
      ],
      "metadata": {
        "id": "GVB3Ymd5aeWK"
      }
    },
    {
      "cell_type": "code",
      "source": [
        "df.info()"
      ],
      "metadata": {
        "colab": {
          "base_uri": "https://localhost:8080/"
        },
        "id": "59QCkVmpaeHN",
        "outputId": "23e9542a-f36b-432a-f22e-eed93670e84a"
      },
      "execution_count": 5,
      "outputs": [
        {
          "output_type": "stream",
          "name": "stdout",
          "text": [
            "<class 'pandas.core.frame.DataFrame'>\n",
            "RangeIndex: 10841 entries, 0 to 10840\n",
            "Data columns (total 13 columns):\n",
            " #   Column          Non-Null Count  Dtype  \n",
            "---  ------          --------------  -----  \n",
            " 0   App             10841 non-null  object \n",
            " 1   Category        10841 non-null  object \n",
            " 2   Rating          9367 non-null   float64\n",
            " 3   Reviews         10841 non-null  object \n",
            " 4   Size            10841 non-null  object \n",
            " 5   Installs        10841 non-null  object \n",
            " 6   Type            10840 non-null  object \n",
            " 7   Price           10841 non-null  object \n",
            " 8   Content Rating  10840 non-null  object \n",
            " 9   Genres          10841 non-null  object \n",
            " 10  Last Updated    10841 non-null  object \n",
            " 11  Current Ver     10833 non-null  object \n",
            " 12  Android Ver     10838 non-null  object \n",
            "dtypes: float64(1), object(12)\n",
            "memory usage: 1.1+ MB\n"
          ]
        }
      ]
    },
    {
      "cell_type": "code",
      "source": [
        "df.columns = df.columns.str.replace(' ', '_').str.lower()"
      ],
      "metadata": {
        "id": "DKcYP0SEalY4"
      },
      "execution_count": 6,
      "outputs": []
    },
    {
      "cell_type": "code",
      "source": [
        "df.columns"
      ],
      "metadata": {
        "colab": {
          "base_uri": "https://localhost:8080/"
        },
        "id": "rXcdyS_bbRkc",
        "outputId": "4b7859d8-2f76-4be7-a935-6caca511cc6b"
      },
      "execution_count": 7,
      "outputs": [
        {
          "output_type": "execute_result",
          "data": {
            "text/plain": [
              "Index(['app', 'category', 'rating', 'reviews', 'size', 'installs', 'type',\n",
              "       'price', 'content_rating', 'genres', 'last_updated', 'current_ver',\n",
              "       'android_ver'],\n",
              "      dtype='object')"
            ]
          },
          "metadata": {},
          "execution_count": 7
        }
      ]
    },
    {
      "cell_type": "code",
      "source": [
        "df.isna().sum()"
      ],
      "metadata": {
        "colab": {
          "base_uri": "https://localhost:8080/"
        },
        "id": "-LGxXdrUbUou",
        "outputId": "d1748d02-ea3e-4ef8-993d-007149c2a656"
      },
      "execution_count": 8,
      "outputs": [
        {
          "output_type": "execute_result",
          "data": {
            "text/plain": [
              "app                  0\n",
              "category             0\n",
              "rating            1474\n",
              "reviews              0\n",
              "size                 0\n",
              "installs             0\n",
              "type                 1\n",
              "price                0\n",
              "content_rating       1\n",
              "genres               0\n",
              "last_updated         0\n",
              "current_ver          8\n",
              "android_ver          3\n",
              "dtype: int64"
            ]
          },
          "metadata": {},
          "execution_count": 8
        }
      ]
    },
    {
      "cell_type": "code",
      "source": [
        "df.dropna(inplace=True)"
      ],
      "metadata": {
        "id": "ABVlM7rZg3AJ"
      },
      "execution_count": 9,
      "outputs": []
    },
    {
      "cell_type": "code",
      "source": [
        "df['rating'] = df['rating'].fillna(0)\n",
        "df['type'] = df['type'].fillna('Not Defined')\n",
        "df['content_rating'] = df['content_rating'].fillna('Unrated')\n",
        "df['current_ver'] = df['current_ver'].fillna('No Data')\n",
        "df['android_ver'] = df['android_ver'].fillna('No Data')"
      ],
      "metadata": {
        "id": "WlhpEZU2be7G"
      },
      "execution_count": 10,
      "outputs": []
    },
    {
      "cell_type": "code",
      "source": [
        "df.duplicated().sum()"
      ],
      "metadata": {
        "colab": {
          "base_uri": "https://localhost:8080/"
        },
        "id": "KdZuyXYMb5y9",
        "outputId": "e3209b0a-8cc2-4fa6-85fb-8a698031feb9"
      },
      "execution_count": 11,
      "outputs": [
        {
          "output_type": "execute_result",
          "data": {
            "text/plain": [
              "474"
            ]
          },
          "metadata": {},
          "execution_count": 11
        }
      ]
    },
    {
      "cell_type": "code",
      "source": [
        "df.drop_duplicates(inplace=True)"
      ],
      "metadata": {
        "id": "dsrn11_CcxML"
      },
      "execution_count": 12,
      "outputs": []
    },
    {
      "cell_type": "code",
      "source": [
        "df.duplicated().sum()"
      ],
      "metadata": {
        "colab": {
          "base_uri": "https://localhost:8080/"
        },
        "id": "NbkGjEBac_LS",
        "outputId": "21359184-a500-4b4e-b3da-54db30adfb25"
      },
      "execution_count": 13,
      "outputs": [
        {
          "output_type": "execute_result",
          "data": {
            "text/plain": [
              "0"
            ]
          },
          "metadata": {},
          "execution_count": 13
        }
      ]
    },
    {
      "cell_type": "code",
      "source": [
        "df.info()"
      ],
      "metadata": {
        "colab": {
          "base_uri": "https://localhost:8080/"
        },
        "id": "LNlvYANZeO49",
        "outputId": "a4caaaf1-d2b6-471c-ef97-90655d3169a9"
      },
      "execution_count": 14,
      "outputs": [
        {
          "output_type": "stream",
          "name": "stdout",
          "text": [
            "<class 'pandas.core.frame.DataFrame'>\n",
            "Int64Index: 8886 entries, 0 to 10840\n",
            "Data columns (total 13 columns):\n",
            " #   Column          Non-Null Count  Dtype  \n",
            "---  ------          --------------  -----  \n",
            " 0   app             8886 non-null   object \n",
            " 1   category        8886 non-null   object \n",
            " 2   rating          8886 non-null   float64\n",
            " 3   reviews         8886 non-null   object \n",
            " 4   size            8886 non-null   object \n",
            " 5   installs        8886 non-null   object \n",
            " 6   type            8886 non-null   object \n",
            " 7   price           8886 non-null   object \n",
            " 8   content_rating  8886 non-null   object \n",
            " 9   genres          8886 non-null   object \n",
            " 10  last_updated    8886 non-null   object \n",
            " 11  current_ver     8886 non-null   object \n",
            " 12  android_ver     8886 non-null   object \n",
            "dtypes: float64(1), object(12)\n",
            "memory usage: 971.9+ KB\n"
          ]
        }
      ]
    },
    {
      "cell_type": "code",
      "source": [
        "df['reviews'].unique()"
      ],
      "metadata": {
        "colab": {
          "base_uri": "https://localhost:8080/"
        },
        "id": "q8s572oskhHx",
        "outputId": "0e36ea4b-eb81-4fa3-d9fa-4795b144a22c"
      },
      "execution_count": 19,
      "outputs": [
        {
          "output_type": "execute_result",
          "data": {
            "text/plain": [
              "array([   159,    967,  87510, ...,    603,   1195, 398307])"
            ]
          },
          "metadata": {},
          "execution_count": 19
        }
      ]
    },
    {
      "cell_type": "code",
      "source": [
        "df['reviews'] = df['reviews'].astype(int)"
      ],
      "metadata": {
        "id": "1xu-6PP4iKGv"
      },
      "execution_count": 15,
      "outputs": []
    },
    {
      "cell_type": "code",
      "source": [
        "df['size'].unique()"
      ],
      "metadata": {
        "colab": {
          "base_uri": "https://localhost:8080/"
        },
        "id": "1Avqv7F5kmXR",
        "outputId": "4c9ff9c1-c461-421f-8467-9900fa63a361"
      },
      "execution_count": 23,
      "outputs": [
        {
          "output_type": "execute_result",
          "data": {
            "text/plain": [
              "array([ 19. ,  14. ,   8.7,  25. ,   2.8,   5.6,  29. ,  33. ,   3.1,\n",
              "        28. ,  12. ,  20. ,  21. ,  37. ,   5.5,  17. ,  39. ,  31. ,\n",
              "         4.2,  23. ,   6. ,   6.1,   4.6,   9.2,   5.2,  11. ,  24. ,\n",
              "         0. ,   9.4,  15. ,  10. ,   1.2,  26. ,   8. ,   7.9,  56. ,\n",
              "        57. ,  35. ,  54. , 201. ,   3.6,   5.7,   8.6,   2.4,  27. ,\n",
              "         2.7,   2.5,   7. ,  16. ,   3.4,   8.9,   3.9,   2.9,  38. ,\n",
              "        32. ,   5.4,  18. ,   1.1,   2.2,   4.5,   9.8,  52. ,   9. ,\n",
              "         6.7,  30. ,   2.6,   7.1,  22. ,   6.4,   3.2,   8.2,   4.9,\n",
              "         9.5,   5. ,   5.9,  13. ,  73. ,   6.8,   3.5,   4. ,   2.3,\n",
              "         2.1,  42. ,   9.1,  55. ,   7.3,   6.5,   1.5,   7.5,  51. ,\n",
              "        41. ,  48. ,   8.5,  46. ,   8.3,   4.3,   4.7,   3.3,  40. ,\n",
              "         7.8,   8.8,   6.6,   5.1,  61. ,  66. ,  79. ,   8.4,   3.7,\n",
              "       118. ,  44. , 695. ,   1.6,   6.2,  53. ,   1.4,   3. ,   7.2,\n",
              "         5.8,   3.8,   9.6,  45. ,  63. ,  49. ,  77. ,   4.4,  70. ,\n",
              "         9.3,   8.1,  36. ,   6.9,   7.4,  84. ,  97. ,   2. ,   1.9,\n",
              "         1.8,   5.3,  47. , 556. , 526. ,  76. ,   7.6,  59. ,   9.7,\n",
              "        78. ,  72. ,  43. ,   7.7,   6.3, 334. ,  93. ,  65. , 100. ,\n",
              "        58. ,  50. ,  68. ,  64. ,  34. ,  67. ,  60. ,  94. ,   9.9,\n",
              "       232. ,  99. , 624. ,  95. , 292. ,  80. ,   1.7,  74. ,  62. ,\n",
              "        69. ,  75. ,  98. ,  85. ,  82. ,  96. ,  87. ,  71. ,  86. ,\n",
              "        91. ,  81. ,  92. ,  83. ,  88. , 704. , 862. , 899. , 378. ,\n",
              "         4.8, 266. , 375. ,   1.3, 975. , 980. ,   4.1,  89. , 696. ,\n",
              "       544. , 525. , 920. , 779. , 853. , 720. , 713. , 772. , 318. ,\n",
              "       241. , 196. , 857. , 953. , 865. , 251. , 930. , 540. , 313. ,\n",
              "       746. , 203. , 314. , 239. , 371. , 220. , 730. , 756. , 293. ,\n",
              "       317. , 924. , 818. , 939. , 169. , 965. ,  90. , 545. , 283. ,\n",
              "       655. , 714. , 872. , 121. , 322. , 976. , 206. , 954. , 444. ,\n",
              "       717. , 210. , 609. , 308. , 306. , 175. , 350. , 383. , 454. ,\n",
              "         1. , 812. , 442. , 842. , 417. , 412. , 459. , 478. , 335. ,\n",
              "       782. , 721. , 430. , 429. , 192. , 460. , 728. , 496. , 816. ,\n",
              "       414. , 506. , 887. , 613. , 778. , 683. , 592. , 186. , 840. ,\n",
              "       647. , 373. , 437. , 598. , 716. , 585. , 982. , 219. , 323. ,\n",
              "       691. , 511. , 951. , 963. , 554. , 351. , 208. , 551. , 103. ,\n",
              "       116. , 153. , 209. , 499. , 173. , 597. , 809. , 122. , 411. ,\n",
              "       400. , 801. , 787. , 643. , 986. , 516. , 837. , 780. , 498. ,\n",
              "       600. , 656. , 221. , 228. , 176. , 259. , 164. , 458. , 629. ,\n",
              "       288. , 775. , 785. , 636. , 916. , 994. , 309. , 485. , 914. ,\n",
              "       903. , 608. , 500. , 562. , 847. , 948. , 811. , 270. , 523. ,\n",
              "       784. , 280. , 892. , 154. , 860. , 364. , 387. , 626. , 161. ,\n",
              "       879. , 170. , 141. , 160. , 144. , 143. , 190. , 376. , 193. ,\n",
              "       473. , 246. , 253. , 957. , 420. , 404. , 470. , 226. , 240. ,\n",
              "       234. , 257. , 861. , 467. , 676. , 552. , 582. , 619. ])"
            ]
          },
          "metadata": {},
          "execution_count": 23
        }
      ]
    },
    {
      "cell_type": "code",
      "source": [
        "df['size'] = df['size'].str.replace('M', '').str.replace('k', '').str.replace('Varies with device', '0')\n",
        "df['size'] = df['size'].astype(float)"
      ],
      "metadata": {
        "id": "n3PavXDTiYvR"
      },
      "execution_count": 16,
      "outputs": []
    },
    {
      "cell_type": "code",
      "source": [
        "df['type'].unique()"
      ],
      "metadata": {
        "colab": {
          "base_uri": "https://localhost:8080/"
        },
        "id": "D2oe5Jguev4V",
        "outputId": "04920287-aed8-4fd4-e9ef-f64bbaf43fda"
      },
      "execution_count": 17,
      "outputs": [
        {
          "output_type": "execute_result",
          "data": {
            "text/plain": [
              "array(['Free', 'Paid'], dtype=object)"
            ]
          },
          "metadata": {},
          "execution_count": 17
        }
      ]
    },
    {
      "cell_type": "code",
      "source": [
        "df['price'].unique()"
      ],
      "metadata": {
        "colab": {
          "base_uri": "https://localhost:8080/"
        },
        "id": "EZnFqHgmfHlo",
        "outputId": "678db5c8-3ace-4e35-ecdf-59fa4266eb08"
      },
      "execution_count": 24,
      "outputs": [
        {
          "output_type": "execute_result",
          "data": {
            "text/plain": [
              "array(['0', '$4.99', '$3.99', '$6.99', '$7.99', '$5.99', '$2.99', '$3.49',\n",
              "       '$1.99', '$9.99', '$7.49', '$0.99', '$9.00', '$5.49', '$10.00',\n",
              "       '$24.99', '$11.99', '$79.99', '$16.99', '$14.99', '$29.99',\n",
              "       '$12.99', '$2.49', '$10.99', '$1.50', '$19.99', '$15.99', '$33.99',\n",
              "       '$39.99', '$3.95', '$4.49', '$1.70', '$8.99', '$1.49', '$3.88',\n",
              "       '$399.99', '$17.99', '$400.00', '$3.02', '$1.76', '$4.84', '$4.77',\n",
              "       '$1.61', '$2.50', '$1.59', '$6.49', '$1.29', '$299.99', '$379.99',\n",
              "       '$37.99', '$18.99', '$389.99', '$8.49', '$1.75', '$14.00', '$2.00',\n",
              "       '$3.08', '$2.59', '$19.40', '$3.90', '$4.59', '$15.46', '$3.04',\n",
              "       '$13.99', '$4.29', '$3.28', '$4.60', '$1.00', '$2.95', '$2.90',\n",
              "       '$1.97', '$2.56', '$1.20'], dtype=object)"
            ]
          },
          "metadata": {},
          "execution_count": 24
        }
      ]
    },
    {
      "cell_type": "code",
      "source": [
        "df['price'] = df['price'].str.replace('$', '').astype(float)"
      ],
      "metadata": {
        "colab": {
          "base_uri": "https://localhost:8080/"
        },
        "id": "ycAZJo8ffK6S",
        "outputId": "d2e2e6a7-175b-44a5-a341-71ad9b1c39ee"
      },
      "execution_count": 25,
      "outputs": [
        {
          "output_type": "stream",
          "name": "stderr",
          "text": [
            "<ipython-input-25-ecd34897e85c>:1: FutureWarning: The default value of regex will change from True to False in a future version. In addition, single character regular expressions will *not* be treated as literal strings when regex=True.\n",
            "  df['price'] = df['price'].str.replace('$', '').astype(float)\n"
          ]
        }
      ]
    },
    {
      "cell_type": "code",
      "source": [
        "df['genres'].unique()"
      ],
      "metadata": {
        "colab": {
          "base_uri": "https://localhost:8080/"
        },
        "id": "IQwyzv5lm_U8",
        "outputId": "cfa251ad-ede0-44d8-b9a2-0d02c1c79f26"
      },
      "execution_count": 44,
      "outputs": [
        {
          "output_type": "execute_result",
          "data": {
            "text/plain": [
              "array(['Art & Design', 'Art & Design;Pretend Play',\n",
              "       'Art & Design;Creativity', 'Auto & Vehicles', 'Beauty',\n",
              "       'Books & Reference', 'Business', 'Comics', 'Comics;Creativity',\n",
              "       'Communication', 'Dating', 'Education;Education', 'Education',\n",
              "       'Education;Creativity', 'Education;Music & Video',\n",
              "       'Education;Action & Adventure', 'Education;Pretend Play',\n",
              "       'Education;Brain Games', 'Entertainment',\n",
              "       'Entertainment;Music & Video', 'Entertainment;Brain Games',\n",
              "       'Entertainment;Creativity', 'Events', 'Finance', 'Food & Drink',\n",
              "       'Health & Fitness', 'House & Home', 'Libraries & Demo',\n",
              "       'Lifestyle', 'Lifestyle;Pretend Play',\n",
              "       'Adventure;Action & Adventure', 'Arcade', 'Casual', 'Card',\n",
              "       'Casual;Pretend Play', 'Action', 'Strategy', 'Puzzle', 'Sports',\n",
              "       'Music', 'Word', 'Racing', 'Casual;Creativity',\n",
              "       'Casual;Action & Adventure', 'Simulation', 'Adventure', 'Board',\n",
              "       'Trivia', 'Role Playing', 'Simulation;Education',\n",
              "       'Action;Action & Adventure', 'Casual;Brain Games',\n",
              "       'Simulation;Action & Adventure', 'Educational;Creativity',\n",
              "       'Puzzle;Brain Games', 'Educational;Education', 'Card;Brain Games',\n",
              "       'Educational;Brain Games', 'Educational;Pretend Play',\n",
              "       'Entertainment;Education', 'Casual;Education',\n",
              "       'Music;Music & Video', 'Racing;Action & Adventure',\n",
              "       'Arcade;Pretend Play', 'Role Playing;Action & Adventure',\n",
              "       'Simulation;Pretend Play', 'Puzzle;Creativity',\n",
              "       'Sports;Action & Adventure', 'Educational;Action & Adventure',\n",
              "       'Arcade;Action & Adventure', 'Entertainment;Action & Adventure',\n",
              "       'Puzzle;Action & Adventure', 'Strategy;Action & Adventure',\n",
              "       'Music & Audio;Music & Video', 'Health & Fitness;Education',\n",
              "       'Adventure;Education', 'Board;Brain Games',\n",
              "       'Board;Action & Adventure', 'Board;Pretend Play',\n",
              "       'Casual;Music & Video', 'Role Playing;Pretend Play',\n",
              "       'Entertainment;Pretend Play', 'Video Players & Editors;Creativity',\n",
              "       'Card;Action & Adventure', 'Medical', 'Social', 'Shopping',\n",
              "       'Photography', 'Travel & Local',\n",
              "       'Travel & Local;Action & Adventure', 'Tools', 'Tools;Education',\n",
              "       'Personalization', 'Productivity', 'Parenting',\n",
              "       'Parenting;Music & Video', 'Parenting;Brain Games',\n",
              "       'Parenting;Education', 'Weather', 'Video Players & Editors',\n",
              "       'Video Players & Editors;Music & Video', 'News & Magazines',\n",
              "       'Maps & Navigation', 'Health & Fitness;Action & Adventure',\n",
              "       'Educational', 'Casino', 'Adventure;Brain Games',\n",
              "       'Lifestyle;Education', 'Books & Reference;Education',\n",
              "       'Puzzle;Education', 'Role Playing;Brain Games',\n",
              "       'Strategy;Education', 'Racing;Pretend Play',\n",
              "       'Communication;Creativity', 'Strategy;Creativity'], dtype=object)"
            ]
          },
          "metadata": {},
          "execution_count": 44
        }
      ]
    },
    {
      "cell_type": "code",
      "source": [
        "df['genres'] = df['genres'].str.split(';').str[0]"
      ],
      "metadata": {
        "id": "nn9p9jGTo1wu"
      },
      "execution_count": 46,
      "outputs": []
    },
    {
      "cell_type": "code",
      "source": [
        "df['last_updated'] = pd.to_datetime(df['last_updated'])"
      ],
      "metadata": {
        "id": "XRuiHopKlHJp"
      },
      "execution_count": 31,
      "outputs": []
    },
    {
      "cell_type": "code",
      "source": [
        "df['current_ver'] = df['current_ver'].str.replace('Varies with device', '0')"
      ],
      "metadata": {
        "id": "lTgVojf0lT9L"
      },
      "execution_count": 34,
      "outputs": []
    },
    {
      "cell_type": "code",
      "source": [
        "df['android_ver'] = df['android_ver'].str.replace('and up', '').str.replace('W', '').str.replace('Varies with device', '0')"
      ],
      "metadata": {
        "id": "60ACgjl7mflT"
      },
      "execution_count": 38,
      "outputs": []
    },
    {
      "cell_type": "markdown",
      "source": [
        "## <b> Исследовательский анализ данных </b>"
      ],
      "metadata": {
        "id": "dK2BAZMuq4eI"
      }
    },
    {
      "cell_type": "code",
      "source": [
        "df.head(10)"
      ],
      "metadata": {
        "colab": {
          "base_uri": "https://localhost:8080/",
          "height": 363
        },
        "id": "sph4Ke63q5Le",
        "outputId": "a408ce7e-c86f-44ca-deba-d7bea7295909"
      },
      "execution_count": 52,
      "outputs": [
        {
          "output_type": "execute_result",
          "data": {
            "text/plain": [
              "                                                 app        category  rating  \\\n",
              "0     Photo Editor & Candy Camera & Grid & ScrapBook  ART_AND_DESIGN     4.1   \n",
              "1                                Coloring book moana  ART_AND_DESIGN     3.9   \n",
              "2  U Launcher Lite – FREE Live Cool Themes, Hide ...  ART_AND_DESIGN     4.7   \n",
              "3                              Sketch - Draw & Paint  ART_AND_DESIGN     4.5   \n",
              "4              Pixel Draw - Number Art Coloring Book  ART_AND_DESIGN     4.3   \n",
              "5                         Paper flowers instructions  ART_AND_DESIGN     4.4   \n",
              "6            Smoke Effect Photo Maker - Smoke Editor  ART_AND_DESIGN     3.8   \n",
              "7                                   Infinite Painter  ART_AND_DESIGN     4.1   \n",
              "8                               Garden Coloring Book  ART_AND_DESIGN     4.4   \n",
              "9                      Kids Paint Free - Drawing Fun  ART_AND_DESIGN     4.7   \n",
              "\n",
              "   reviews  size     installs  type  price content_rating        genres  \\\n",
              "0      159  19.0      10,000+  Free    0.0       Everyone  Art & Design   \n",
              "1      967  14.0     500,000+  Free    0.0       Everyone  Art & Design   \n",
              "2    87510   8.7   5,000,000+  Free    0.0       Everyone  Art & Design   \n",
              "3   215644  25.0  50,000,000+  Free    0.0           Teen  Art & Design   \n",
              "4      967   2.8     100,000+  Free    0.0       Everyone  Art & Design   \n",
              "5      167   5.6      50,000+  Free    0.0       Everyone  Art & Design   \n",
              "6      178  19.0      50,000+  Free    0.0       Everyone  Art & Design   \n",
              "7    36815  29.0   1,000,000+  Free    0.0       Everyone  Art & Design   \n",
              "8    13791  33.0   1,000,000+  Free    0.0       Everyone  Art & Design   \n",
              "9      121   3.1      10,000+  Free    0.0       Everyone  Art & Design   \n",
              "\n",
              "  last_updated current_ver android_ver  \n",
              "0   2018-01-07       1.0.0      4.0.3   \n",
              "1   2018-01-15       2.0.0      4.0.3   \n",
              "2   2018-08-01       1.2.4      4.0.3   \n",
              "3   2018-06-08           0        4.2   \n",
              "4   2018-06-20         1.1        4.4   \n",
              "5   2017-03-26         1.0        2.3   \n",
              "6   2018-04-26         1.1      4.0.3   \n",
              "7   2018-06-14    6.1.61.1        4.2   \n",
              "8   2017-09-20       2.9.2        3.0   \n",
              "9   2018-07-03         2.8      4.0.3   "
            ],
            "text/html": [
              "\n",
              "  <div id=\"df-01604740-de53-48e4-960f-be27e0716b9b\" class=\"colab-df-container\">\n",
              "    <div>\n",
              "<style scoped>\n",
              "    .dataframe tbody tr th:only-of-type {\n",
              "        vertical-align: middle;\n",
              "    }\n",
              "\n",
              "    .dataframe tbody tr th {\n",
              "        vertical-align: top;\n",
              "    }\n",
              "\n",
              "    .dataframe thead th {\n",
              "        text-align: right;\n",
              "    }\n",
              "</style>\n",
              "<table border=\"1\" class=\"dataframe\">\n",
              "  <thead>\n",
              "    <tr style=\"text-align: right;\">\n",
              "      <th></th>\n",
              "      <th>app</th>\n",
              "      <th>category</th>\n",
              "      <th>rating</th>\n",
              "      <th>reviews</th>\n",
              "      <th>size</th>\n",
              "      <th>installs</th>\n",
              "      <th>type</th>\n",
              "      <th>price</th>\n",
              "      <th>content_rating</th>\n",
              "      <th>genres</th>\n",
              "      <th>last_updated</th>\n",
              "      <th>current_ver</th>\n",
              "      <th>android_ver</th>\n",
              "    </tr>\n",
              "  </thead>\n",
              "  <tbody>\n",
              "    <tr>\n",
              "      <th>0</th>\n",
              "      <td>Photo Editor &amp; Candy Camera &amp; Grid &amp; ScrapBook</td>\n",
              "      <td>ART_AND_DESIGN</td>\n",
              "      <td>4.1</td>\n",
              "      <td>159</td>\n",
              "      <td>19.0</td>\n",
              "      <td>10,000+</td>\n",
              "      <td>Free</td>\n",
              "      <td>0.0</td>\n",
              "      <td>Everyone</td>\n",
              "      <td>Art &amp; Design</td>\n",
              "      <td>2018-01-07</td>\n",
              "      <td>1.0.0</td>\n",
              "      <td>4.0.3</td>\n",
              "    </tr>\n",
              "    <tr>\n",
              "      <th>1</th>\n",
              "      <td>Coloring book moana</td>\n",
              "      <td>ART_AND_DESIGN</td>\n",
              "      <td>3.9</td>\n",
              "      <td>967</td>\n",
              "      <td>14.0</td>\n",
              "      <td>500,000+</td>\n",
              "      <td>Free</td>\n",
              "      <td>0.0</td>\n",
              "      <td>Everyone</td>\n",
              "      <td>Art &amp; Design</td>\n",
              "      <td>2018-01-15</td>\n",
              "      <td>2.0.0</td>\n",
              "      <td>4.0.3</td>\n",
              "    </tr>\n",
              "    <tr>\n",
              "      <th>2</th>\n",
              "      <td>U Launcher Lite – FREE Live Cool Themes, Hide ...</td>\n",
              "      <td>ART_AND_DESIGN</td>\n",
              "      <td>4.7</td>\n",
              "      <td>87510</td>\n",
              "      <td>8.7</td>\n",
              "      <td>5,000,000+</td>\n",
              "      <td>Free</td>\n",
              "      <td>0.0</td>\n",
              "      <td>Everyone</td>\n",
              "      <td>Art &amp; Design</td>\n",
              "      <td>2018-08-01</td>\n",
              "      <td>1.2.4</td>\n",
              "      <td>4.0.3</td>\n",
              "    </tr>\n",
              "    <tr>\n",
              "      <th>3</th>\n",
              "      <td>Sketch - Draw &amp; Paint</td>\n",
              "      <td>ART_AND_DESIGN</td>\n",
              "      <td>4.5</td>\n",
              "      <td>215644</td>\n",
              "      <td>25.0</td>\n",
              "      <td>50,000,000+</td>\n",
              "      <td>Free</td>\n",
              "      <td>0.0</td>\n",
              "      <td>Teen</td>\n",
              "      <td>Art &amp; Design</td>\n",
              "      <td>2018-06-08</td>\n",
              "      <td>0</td>\n",
              "      <td>4.2</td>\n",
              "    </tr>\n",
              "    <tr>\n",
              "      <th>4</th>\n",
              "      <td>Pixel Draw - Number Art Coloring Book</td>\n",
              "      <td>ART_AND_DESIGN</td>\n",
              "      <td>4.3</td>\n",
              "      <td>967</td>\n",
              "      <td>2.8</td>\n",
              "      <td>100,000+</td>\n",
              "      <td>Free</td>\n",
              "      <td>0.0</td>\n",
              "      <td>Everyone</td>\n",
              "      <td>Art &amp; Design</td>\n",
              "      <td>2018-06-20</td>\n",
              "      <td>1.1</td>\n",
              "      <td>4.4</td>\n",
              "    </tr>\n",
              "    <tr>\n",
              "      <th>5</th>\n",
              "      <td>Paper flowers instructions</td>\n",
              "      <td>ART_AND_DESIGN</td>\n",
              "      <td>4.4</td>\n",
              "      <td>167</td>\n",
              "      <td>5.6</td>\n",
              "      <td>50,000+</td>\n",
              "      <td>Free</td>\n",
              "      <td>0.0</td>\n",
              "      <td>Everyone</td>\n",
              "      <td>Art &amp; Design</td>\n",
              "      <td>2017-03-26</td>\n",
              "      <td>1.0</td>\n",
              "      <td>2.3</td>\n",
              "    </tr>\n",
              "    <tr>\n",
              "      <th>6</th>\n",
              "      <td>Smoke Effect Photo Maker - Smoke Editor</td>\n",
              "      <td>ART_AND_DESIGN</td>\n",
              "      <td>3.8</td>\n",
              "      <td>178</td>\n",
              "      <td>19.0</td>\n",
              "      <td>50,000+</td>\n",
              "      <td>Free</td>\n",
              "      <td>0.0</td>\n",
              "      <td>Everyone</td>\n",
              "      <td>Art &amp; Design</td>\n",
              "      <td>2018-04-26</td>\n",
              "      <td>1.1</td>\n",
              "      <td>4.0.3</td>\n",
              "    </tr>\n",
              "    <tr>\n",
              "      <th>7</th>\n",
              "      <td>Infinite Painter</td>\n",
              "      <td>ART_AND_DESIGN</td>\n",
              "      <td>4.1</td>\n",
              "      <td>36815</td>\n",
              "      <td>29.0</td>\n",
              "      <td>1,000,000+</td>\n",
              "      <td>Free</td>\n",
              "      <td>0.0</td>\n",
              "      <td>Everyone</td>\n",
              "      <td>Art &amp; Design</td>\n",
              "      <td>2018-06-14</td>\n",
              "      <td>6.1.61.1</td>\n",
              "      <td>4.2</td>\n",
              "    </tr>\n",
              "    <tr>\n",
              "      <th>8</th>\n",
              "      <td>Garden Coloring Book</td>\n",
              "      <td>ART_AND_DESIGN</td>\n",
              "      <td>4.4</td>\n",
              "      <td>13791</td>\n",
              "      <td>33.0</td>\n",
              "      <td>1,000,000+</td>\n",
              "      <td>Free</td>\n",
              "      <td>0.0</td>\n",
              "      <td>Everyone</td>\n",
              "      <td>Art &amp; Design</td>\n",
              "      <td>2017-09-20</td>\n",
              "      <td>2.9.2</td>\n",
              "      <td>3.0</td>\n",
              "    </tr>\n",
              "    <tr>\n",
              "      <th>9</th>\n",
              "      <td>Kids Paint Free - Drawing Fun</td>\n",
              "      <td>ART_AND_DESIGN</td>\n",
              "      <td>4.7</td>\n",
              "      <td>121</td>\n",
              "      <td>3.1</td>\n",
              "      <td>10,000+</td>\n",
              "      <td>Free</td>\n",
              "      <td>0.0</td>\n",
              "      <td>Everyone</td>\n",
              "      <td>Art &amp; Design</td>\n",
              "      <td>2018-07-03</td>\n",
              "      <td>2.8</td>\n",
              "      <td>4.0.3</td>\n",
              "    </tr>\n",
              "  </tbody>\n",
              "</table>\n",
              "</div>\n",
              "    <div class=\"colab-df-buttons\">\n",
              "\n",
              "  <div class=\"colab-df-container\">\n",
              "    <button class=\"colab-df-convert\" onclick=\"convertToInteractive('df-01604740-de53-48e4-960f-be27e0716b9b')\"\n",
              "            title=\"Convert this dataframe to an interactive table.\"\n",
              "            style=\"display:none;\">\n",
              "\n",
              "  <svg xmlns=\"http://www.w3.org/2000/svg\" height=\"24px\" viewBox=\"0 -960 960 960\">\n",
              "    <path d=\"M120-120v-720h720v720H120Zm60-500h600v-160H180v160Zm220 220h160v-160H400v160Zm0 220h160v-160H400v160ZM180-400h160v-160H180v160Zm440 0h160v-160H620v160ZM180-180h160v-160H180v160Zm440 0h160v-160H620v160Z\"/>\n",
              "  </svg>\n",
              "    </button>\n",
              "\n",
              "  <style>\n",
              "    .colab-df-container {\n",
              "      display:flex;\n",
              "      gap: 12px;\n",
              "    }\n",
              "\n",
              "    .colab-df-convert {\n",
              "      background-color: #E8F0FE;\n",
              "      border: none;\n",
              "      border-radius: 50%;\n",
              "      cursor: pointer;\n",
              "      display: none;\n",
              "      fill: #1967D2;\n",
              "      height: 32px;\n",
              "      padding: 0 0 0 0;\n",
              "      width: 32px;\n",
              "    }\n",
              "\n",
              "    .colab-df-convert:hover {\n",
              "      background-color: #E2EBFA;\n",
              "      box-shadow: 0px 1px 2px rgba(60, 64, 67, 0.3), 0px 1px 3px 1px rgba(60, 64, 67, 0.15);\n",
              "      fill: #174EA6;\n",
              "    }\n",
              "\n",
              "    .colab-df-buttons div {\n",
              "      margin-bottom: 4px;\n",
              "    }\n",
              "\n",
              "    [theme=dark] .colab-df-convert {\n",
              "      background-color: #3B4455;\n",
              "      fill: #D2E3FC;\n",
              "    }\n",
              "\n",
              "    [theme=dark] .colab-df-convert:hover {\n",
              "      background-color: #434B5C;\n",
              "      box-shadow: 0px 1px 3px 1px rgba(0, 0, 0, 0.15);\n",
              "      filter: drop-shadow(0px 1px 2px rgba(0, 0, 0, 0.3));\n",
              "      fill: #FFFFFF;\n",
              "    }\n",
              "  </style>\n",
              "\n",
              "    <script>\n",
              "      const buttonEl =\n",
              "        document.querySelector('#df-01604740-de53-48e4-960f-be27e0716b9b button.colab-df-convert');\n",
              "      buttonEl.style.display =\n",
              "        google.colab.kernel.accessAllowed ? 'block' : 'none';\n",
              "\n",
              "      async function convertToInteractive(key) {\n",
              "        const element = document.querySelector('#df-01604740-de53-48e4-960f-be27e0716b9b');\n",
              "        const dataTable =\n",
              "          await google.colab.kernel.invokeFunction('convertToInteractive',\n",
              "                                                    [key], {});\n",
              "        if (!dataTable) return;\n",
              "\n",
              "        const docLinkHtml = 'Like what you see? Visit the ' +\n",
              "          '<a target=\"_blank\" href=https://colab.research.google.com/notebooks/data_table.ipynb>data table notebook</a>'\n",
              "          + ' to learn more about interactive tables.';\n",
              "        element.innerHTML = '';\n",
              "        dataTable['output_type'] = 'display_data';\n",
              "        await google.colab.output.renderOutput(dataTable, element);\n",
              "        const docLink = document.createElement('div');\n",
              "        docLink.innerHTML = docLinkHtml;\n",
              "        element.appendChild(docLink);\n",
              "      }\n",
              "    </script>\n",
              "  </div>\n",
              "\n",
              "\n",
              "<div id=\"df-de634daa-9030-40db-a212-7663cca15663\">\n",
              "  <button class=\"colab-df-quickchart\" onclick=\"quickchart('df-de634daa-9030-40db-a212-7663cca15663')\"\n",
              "            title=\"Suggest charts.\"\n",
              "            style=\"display:none;\">\n",
              "\n",
              "<svg xmlns=\"http://www.w3.org/2000/svg\" height=\"24px\"viewBox=\"0 0 24 24\"\n",
              "     width=\"24px\">\n",
              "    <g>\n",
              "        <path d=\"M19 3H5c-1.1 0-2 .9-2 2v14c0 1.1.9 2 2 2h14c1.1 0 2-.9 2-2V5c0-1.1-.9-2-2-2zM9 17H7v-7h2v7zm4 0h-2V7h2v10zm4 0h-2v-4h2v4z\"/>\n",
              "    </g>\n",
              "</svg>\n",
              "  </button>\n",
              "\n",
              "<style>\n",
              "  .colab-df-quickchart {\n",
              "      --bg-color: #E8F0FE;\n",
              "      --fill-color: #1967D2;\n",
              "      --hover-bg-color: #E2EBFA;\n",
              "      --hover-fill-color: #174EA6;\n",
              "      --disabled-fill-color: #AAA;\n",
              "      --disabled-bg-color: #DDD;\n",
              "  }\n",
              "\n",
              "  [theme=dark] .colab-df-quickchart {\n",
              "      --bg-color: #3B4455;\n",
              "      --fill-color: #D2E3FC;\n",
              "      --hover-bg-color: #434B5C;\n",
              "      --hover-fill-color: #FFFFFF;\n",
              "      --disabled-bg-color: #3B4455;\n",
              "      --disabled-fill-color: #666;\n",
              "  }\n",
              "\n",
              "  .colab-df-quickchart {\n",
              "    background-color: var(--bg-color);\n",
              "    border: none;\n",
              "    border-radius: 50%;\n",
              "    cursor: pointer;\n",
              "    display: none;\n",
              "    fill: var(--fill-color);\n",
              "    height: 32px;\n",
              "    padding: 0;\n",
              "    width: 32px;\n",
              "  }\n",
              "\n",
              "  .colab-df-quickchart:hover {\n",
              "    background-color: var(--hover-bg-color);\n",
              "    box-shadow: 0 1px 2px rgba(60, 64, 67, 0.3), 0 1px 3px 1px rgba(60, 64, 67, 0.15);\n",
              "    fill: var(--button-hover-fill-color);\n",
              "  }\n",
              "\n",
              "  .colab-df-quickchart-complete:disabled,\n",
              "  .colab-df-quickchart-complete:disabled:hover {\n",
              "    background-color: var(--disabled-bg-color);\n",
              "    fill: var(--disabled-fill-color);\n",
              "    box-shadow: none;\n",
              "  }\n",
              "\n",
              "  .colab-df-spinner {\n",
              "    border: 2px solid var(--fill-color);\n",
              "    border-color: transparent;\n",
              "    border-bottom-color: var(--fill-color);\n",
              "    animation:\n",
              "      spin 1s steps(1) infinite;\n",
              "  }\n",
              "\n",
              "  @keyframes spin {\n",
              "    0% {\n",
              "      border-color: transparent;\n",
              "      border-bottom-color: var(--fill-color);\n",
              "      border-left-color: var(--fill-color);\n",
              "    }\n",
              "    20% {\n",
              "      border-color: transparent;\n",
              "      border-left-color: var(--fill-color);\n",
              "      border-top-color: var(--fill-color);\n",
              "    }\n",
              "    30% {\n",
              "      border-color: transparent;\n",
              "      border-left-color: var(--fill-color);\n",
              "      border-top-color: var(--fill-color);\n",
              "      border-right-color: var(--fill-color);\n",
              "    }\n",
              "    40% {\n",
              "      border-color: transparent;\n",
              "      border-right-color: var(--fill-color);\n",
              "      border-top-color: var(--fill-color);\n",
              "    }\n",
              "    60% {\n",
              "      border-color: transparent;\n",
              "      border-right-color: var(--fill-color);\n",
              "    }\n",
              "    80% {\n",
              "      border-color: transparent;\n",
              "      border-right-color: var(--fill-color);\n",
              "      border-bottom-color: var(--fill-color);\n",
              "    }\n",
              "    90% {\n",
              "      border-color: transparent;\n",
              "      border-bottom-color: var(--fill-color);\n",
              "    }\n",
              "  }\n",
              "</style>\n",
              "\n",
              "  <script>\n",
              "    async function quickchart(key) {\n",
              "      const quickchartButtonEl =\n",
              "        document.querySelector('#' + key + ' button');\n",
              "      quickchartButtonEl.disabled = true;  // To prevent multiple clicks.\n",
              "      quickchartButtonEl.classList.add('colab-df-spinner');\n",
              "      try {\n",
              "        const charts = await google.colab.kernel.invokeFunction(\n",
              "            'suggestCharts', [key], {});\n",
              "      } catch (error) {\n",
              "        console.error('Error during call to suggestCharts:', error);\n",
              "      }\n",
              "      quickchartButtonEl.classList.remove('colab-df-spinner');\n",
              "      quickchartButtonEl.classList.add('colab-df-quickchart-complete');\n",
              "    }\n",
              "    (() => {\n",
              "      let quickchartButtonEl =\n",
              "        document.querySelector('#df-de634daa-9030-40db-a212-7663cca15663 button');\n",
              "      quickchartButtonEl.style.display =\n",
              "        google.colab.kernel.accessAllowed ? 'block' : 'none';\n",
              "    })();\n",
              "  </script>\n",
              "</div>\n",
              "    </div>\n",
              "  </div>\n"
            ]
          },
          "metadata": {},
          "execution_count": 52
        }
      ]
    }
  ]
}